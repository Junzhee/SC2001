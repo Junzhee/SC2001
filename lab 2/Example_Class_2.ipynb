{
 "cells": [
  {
   "cell_type": "code",
   "execution_count": 35,
   "id": "ce85f2fd",
   "metadata": {},
   "outputs": [],
   "source": [
    "# part a\n",
    "\n",
    "# Graph: adjacency matrix\n",
    "# Priority queue: arrray\n",
    "\n",
    "import sys\n",
    "\n",
    "def dijkstraPQ(graph, source, n): #where n = no. of vertices generated in graph\n",
    "    global keyComparison\n",
    "    \n",
    "    #Creating distance list, d with infinity for all n vertices\n",
    "    d = [sys.maxsize] * n\n",
    "\n",
    "    #Creating predecessor list, pi with null(-1) for all n vertices\n",
    "    pi = [-1] * n\n",
    "    \n",
    "    #Creating solution list, s with initial 0 for all n vertices\n",
    "    s = [0] * n\n",
    "    \n",
    "    #Initialisation\n",
    "    d[source] = 0\n",
    "   # print(\"distance array = \"+str(d)+\"\\n\")\n",
    "    \n",
    "    #Creating priority queue\n",
    "    Q = PriorityQ()\n",
    "    #Putting all vertices in priority queue\n",
    "    for vertex in range(n):\n",
    "        Q.enqueue((vertex,d[vertex]))\n",
    "    #print(\"priority queue = \"+str(Q))\n",
    "    \n",
    "    while not Q.isEmpty():\n",
    "        u = Q.dequeue()[0]\n",
    "       # print(\"dequeued vertex = \"+str(u))\n",
    "        s[u] = 1;\n",
    "\n",
    "        for v in range(n): \n",
    "            #print(\"graph[u,v]=\"+str(graph[u,v]))\n",
    "            if((graph[u,v]!=0) and (s[v]!=1)): #neighbour & not soln set\n",
    "                newDist = d[u] + graph[u,v]\n",
    "                if d[v]>newDist:\n",
    "                    Q.remove((v,d[v]))\n",
    "                    d[v] = newDist\n",
    "                    pi[v] = u\n",
    "                    Q.enqueue((v,newDist))\n",
    "    \n",
    "    d = list(map(int, d)) \n",
    " #  print(\"\\n distance array = \"+str(d)+\"\\n\")\n",
    " #  print(\"pi array = \"+str(pi))\n",
    "    \n",
    "    return d\n",
    "    \n",
    "\n",
    "class PriorityQ(object):\n",
    "    def __init__(self):\n",
    "        self.queue = []\n",
    "\n",
    "    #Returns true if list is empty\n",
    "    def isEmpty(self):\n",
    "        if len(self.queue)==0:\n",
    "            return True\n",
    "    \n",
    "    #Enqueuing distance\n",
    "    def enqueue(self, distance):\n",
    "        self.queue.append(distance)\n",
    "        \n",
    "    #Dequeueing distance based on shortest distance first priority\n",
    "    #self.queue[vertex][1] = distance of vertex from source\n",
    "    def dequeue(self):\n",
    "        smallestDist  = sys.maxsize\n",
    "        smallestIndex = 0\n",
    "        for vertex in range(len(self.queue)):\n",
    "            if self.queue[vertex][1] < smallestDist:\n",
    "                smallestDist = self.queue[vertex][1]\n",
    "                smallestIndex = vertex\n",
    "        smallestVertex = self.queue[smallestIndex]\n",
    "        del self.queue[smallestIndex]\n",
    "        return smallestVertex\n",
    "    #Removing specific distance\n",
    "    def remove(self, distance):\n",
    "        self.queue.remove(distance)\n",
    "    \n",
    "    #To delete this function after sanity check\n",
    "    def __str__(self):\n",
    "        return ' '.join([str(i) for i in self.queue])"
   ]
  },
  {
   "cell_type": "code",
   "execution_count": 36,
   "id": "2dd90e84",
   "metadata": {},
   "outputs": [],
   "source": [
    "# part b\n",
    "\n",
    "# Graph: adjacency list\n",
    "# Priority queue: minimizing heap\n",
    "\n",
    "import heapq\n",
    "\n",
    "def dijkstra_list(graph, start):\n",
    "    \n",
    "    # use minimizing heap as priority queue\n",
    "    pqueue = [] \n",
    "    heapq.heappush(pqueue, (0, start))\n",
    "    \n",
    "    checked = []\n",
    "    record = {start : None}\n",
    "    cost = initialize(graph, start)\n",
    "    \n",
    "    \n",
    "    while (len(pqueue) > 0):\n",
    "        candidate = heapq.heappop(pqueue)\n",
    "        distance = candidate[0]\n",
    "        V = candidate[1]\n",
    "        checked.append(V)\n",
    "        \n",
    "        nodes = graph[V].keys()\n",
    "        \n",
    "        for vertex in nodes:\n",
    "            if vertex not in checked:\n",
    "                if (graph[V][vertex][\"weight\"] + distance) < cost[vertex]:\n",
    "                    record[vertex] = V\n",
    "                    cost[vertex] = graph[V][vertex][\"weight\"] + distance\n",
    "                    heapq.heappush(pqueue, (cost[vertex], vertex))\n",
    "    \n",
    "    result_dist = ', '.join(str(x) for x in cost.values())           \n",
    "    return result_dist\n",
    "\n",
    "# initialize the original cost of each vertex to the start point\n",
    "\n",
    "def initialize(graph, start):\n",
    "    cost = {start : 0}\n",
    "    inf = 99999\n",
    "    \n",
    "    for V in graph:\n",
    "        if V != start:\n",
    "            cost[V] = inf\n",
    "    \n",
    "    return cost"
   ]
  },
  {
   "cell_type": "markdown",
   "id": "dd132cc0",
   "metadata": {},
   "source": [
    "  "
   ]
  },
  {
   "cell_type": "markdown",
   "id": "2c80d5a7",
   "metadata": {},
   "source": [
    "  "
   ]
  },
  {
   "cell_type": "code",
   "execution_count": 37,
   "id": "9f60f79d",
   "metadata": {},
   "outputs": [],
   "source": [
    "# generate random directed and weighted graph with networkx \n",
    "\n",
    "import networkx as nx\n",
    "import algorithmx\n",
    "from random import randint\n",
    "from algorithmx.networkx import add_graph\n",
    "\n",
    "def generate_graph(n, p):\n",
    "    \n",
    "    # Returns a random graph, also known as an Erdős-Rényi graph or a binomial graph.\n",
    "    # n: the number of nodes.\n",
    "    # p: probability for edge creation\n",
    "    G = nx.gnp_random_graph(n, p)\n",
    "    G = G.to_directed()\n",
    "    \n",
    "    # randomly set edge weights ranging from 1 to n\n",
    "    nx.set_edge_attributes(G, {e: {'weight': randint(1, n)} for e in G.edges}) \n",
    "\n",
    "     # save as adjacency matrix\n",
    "    graph_matrix = nx.to_numpy_matrix(G)\n",
    "    # save as adjacency list\n",
    "    graph_list = nx.to_dict_of_dicts(G, nodelist=None)\n",
    "   \n",
    "    return graph_matrix, graph_list"
   ]
  },
  {
   "cell_type": "markdown",
   "id": "0c0aae32",
   "metadata": {},
   "source": [
    "  \n",
    " "
   ]
  },
  {
   "cell_type": "markdown",
   "id": "41fc2054",
   "metadata": {},
   "source": [
    "  "
   ]
  },
  {
   "cell_type": "code",
   "execution_count": 38,
   "id": "7c793f47",
   "metadata": {},
   "outputs": [
    {
     "data": {
      "text/plain": [
       "matrix([[ 0.,  6.,  0.,  0.,  2.,  0.,  0.,  0.,  0.,  0.],\n",
       "        [ 3.,  0.,  0.,  0.,  0., 10.,  0.,  0.,  0.,  0.],\n",
       "        [ 0.,  0.,  0.,  0.,  0.,  0.,  5.,  0.,  0.,  1.],\n",
       "        [ 0.,  0.,  0.,  0.,  0.,  0.,  0.,  0.,  0.,  3.],\n",
       "        [ 2.,  0.,  0.,  0.,  0.,  3.,  3.,  9., 10.,  0.],\n",
       "        [ 0.,  5.,  0.,  0.,  6.,  0.,  5.,  8.,  0.,  0.],\n",
       "        [ 0.,  0.,  2.,  0.,  1.,  1.,  0.,  7.,  0.,  0.],\n",
       "        [ 0.,  0.,  0.,  0., 10.,  2.,  5.,  0.,  0.,  0.],\n",
       "        [ 0.,  0.,  0.,  0.,  5.,  0.,  0.,  0.,  0.,  0.],\n",
       "        [ 0.,  0.,  2.,  9.,  0.,  0.,  0.,  0.,  0.,  0.]])"
      ]
     },
     "execution_count": 38,
     "metadata": {},
     "output_type": "execute_result"
    }
   ],
   "source": [
    "# sample run\n",
    "\n",
    "sample_matrix, sample_list = generate_graph(10, 0.3)\n",
    "sample_matrix"
   ]
  },
  {
   "cell_type": "code",
   "execution_count": 39,
   "id": "c06e3cb1",
   "metadata": {},
   "outputs": [
    {
     "data": {
      "text/plain": [
       "{0: {1: {'weight': 6}, 4: {'weight': 2}},\n",
       " 1: {0: {'weight': 3}, 5: {'weight': 10}},\n",
       " 2: {6: {'weight': 5}, 9: {'weight': 1}},\n",
       " 3: {9: {'weight': 3}},\n",
       " 4: {0: {'weight': 2},\n",
       "  5: {'weight': 3},\n",
       "  6: {'weight': 3},\n",
       "  7: {'weight': 9},\n",
       "  8: {'weight': 10}},\n",
       " 5: {1: {'weight': 5}, 4: {'weight': 6}, 6: {'weight': 5}, 7: {'weight': 8}},\n",
       " 6: {2: {'weight': 2}, 4: {'weight': 1}, 5: {'weight': 1}, 7: {'weight': 7}},\n",
       " 7: {4: {'weight': 10}, 5: {'weight': 2}, 6: {'weight': 5}},\n",
       " 8: {4: {'weight': 5}},\n",
       " 9: {2: {'weight': 2}, 3: {'weight': 9}}}"
      ]
     },
     "execution_count": 39,
     "metadata": {},
     "output_type": "execute_result"
    }
   ],
   "source": [
    "sample_list"
   ]
  },
  {
   "cell_type": "code",
   "execution_count": 40,
   "id": "6d13a195",
   "metadata": {},
   "outputs": [
    {
     "name": "stdout",
     "output_type": "stream",
     "text": [
      "\n",
      " distance array = [0, 6, 7, 17, 2, 5, 5, 11, 12, 8]\n",
      "\n"
     ]
    }
   ],
   "source": [
    "# sample run\n",
    "result_matrix = dijkstraPQ(sample_matrix, 0, 10)\n",
    "print(\"\\n distance array = \"+str(result_matrix)+\"\\n\")"
   ]
  },
  {
   "cell_type": "code",
   "execution_count": 41,
   "id": "a7b5280c",
   "metadata": {},
   "outputs": [
    {
     "name": "stdout",
     "output_type": "stream",
     "text": [
      "\n",
      " distance array = [0, 6, 7, 17, 2, 5, 5, 11, 12, 8]\n",
      "\n"
     ]
    }
   ],
   "source": [
    "result_list = dijkstra_list(sample_list, 0)\n",
    "print(\"\\n distance array = [\"+ result_list +\"]\\n\")"
   ]
  },
  {
   "cell_type": "markdown",
   "id": "22eaacea",
   "metadata": {},
   "source": [
    "  "
   ]
  },
  {
   "cell_type": "markdown",
   "id": "937ef34b",
   "metadata": {},
   "source": [
    "  "
   ]
  },
  {
   "cell_type": "code",
   "execution_count": 42,
   "id": "45a2e549",
   "metadata": {},
   "outputs": [],
   "source": [
    "# part c\n",
    "\n",
    "# compare the two implementations\n",
    "\n",
    "import time\n",
    "\n",
    "def comparison(num, p):\n",
    "    # num is the number of vertexes\n",
    "    graph_matrix, graph_list = generate_graph(num, p)\n",
    "    \n",
    "    time_matrix = time.perf_counter()\n",
    "    dijkstraPQ(graph_matrix, 0, num)\n",
    "    print(f'matrix:{time.perf_counter() - time_matrix:.8f}s')\n",
    "    tm = time.perf_counter() - time_matrix\n",
    "    \n",
    "    time_list = time.perf_counter()\n",
    "    dijkstra_list(graph_list, 0)\n",
    "    print(f'list:{time.perf_counter() - time_list:.8f}s')\n",
    "    tl = time.perf_counter() - time_list\n",
    "    \n",
    "    print(\"\\n\")\n",
    "    \n",
    "    return tm, tl"
   ]
  },
  {
   "cell_type": "code",
   "execution_count": 68,
   "id": "4824778d",
   "metadata": {},
   "outputs": [
    {
     "name": "stdout",
     "output_type": "stream",
     "text": [
      "matrix:0.00744410s\n",
      "list:0.00048920s\n",
      "\n",
      "\n",
      "matrix:0.02929750s\n",
      "list:0.00345930s\n",
      "\n",
      "\n",
      "matrix:0.06323510s\n",
      "list:0.01314730s\n",
      "\n",
      "\n",
      "matrix:0.11338360s\n",
      "list:0.03590380s\n",
      "\n",
      "\n",
      "matrix:0.17943960s\n",
      "list:0.07130460s\n",
      "\n",
      "\n",
      "matrix:0.01053390s\n",
      "list:0.01660260s\n",
      "\n",
      "\n",
      "matrix:0.04232130s\n",
      "list:0.14590970s\n",
      "\n",
      "\n",
      "matrix:0.09372040s\n",
      "list:0.52929760s\n",
      "\n",
      "\n",
      "matrix:0.16710900s\n",
      "list:1.32485480s\n",
      "\n",
      "\n",
      "matrix:0.25668500s\n",
      "list:2.53728730s\n",
      "\n",
      "\n"
     ]
    }
   ],
   "source": [
    "import numpy as np\n",
    "import pandas as pd\n",
    "result_sparse = np.zeros((5, 2))\n",
    "result_dense = np.zeros((5, 2))\n",
    "\n",
    "n = 0\n",
    "for i in {100, 200, 300, 400, 500}:\n",
    "    tm, tl = comparison(i, 0.05)\n",
    "    \n",
    "    result_sparse[n][0] = tm\n",
    "    result_sparse[n][1] = tl\n",
    "    n = n+1 \n",
    "    \n",
    "n = 0\n",
    "for i in {100, 200, 300, 400, 500}:\n",
    "    tm, tl = comparison(i, 0.95)\n",
    "    \n",
    "    result_dense[n][0] = tm\n",
    "    result_dense[n][1] = tl\n",
    "    n = n+1"
   ]
  },
  {
   "cell_type": "code",
   "execution_count": 69,
   "id": "67328e3f",
   "metadata": {},
   "outputs": [
    {
     "data": {
      "text/plain": [
       "array([[0.0076082, 0.0005055],\n",
       "       [0.0295197, 0.0034916],\n",
       "       [0.0633005, 0.0132064],\n",
       "       [0.113452 , 0.0360903],\n",
       "       [0.1795109, 0.0713687]])"
      ]
     },
     "execution_count": 69,
     "metadata": {},
     "output_type": "execute_result"
    }
   ],
   "source": [
    "result_sparse"
   ]
  },
  {
   "cell_type": "code",
   "execution_count": 70,
   "id": "54ca9d83",
   "metadata": {},
   "outputs": [
    {
     "data": {
      "text/plain": [
       "array([[0.0107052, 0.0166415],\n",
       "       [0.0423947, 0.1459775],\n",
       "       [0.0938118, 0.5293855],\n",
       "       [0.167178 , 1.3249287],\n",
       "       [0.2568774, 2.5374943]])"
      ]
     },
     "execution_count": 70,
     "metadata": {},
     "output_type": "execute_result"
    }
   ],
   "source": [
    "result_dense"
   ]
  }
 ],
 "metadata": {
  "kernelspec": {
   "display_name": "Python 3 (ipykernel)",
   "language": "python",
   "name": "python3"
  },
  "language_info": {
   "codemirror_mode": {
    "name": "ipython",
    "version": 3
   },
   "file_extension": ".py",
   "mimetype": "text/x-python",
   "name": "python",
   "nbconvert_exporter": "python",
   "pygments_lexer": "ipython3",
   "version": "3.9.7"
  }
 },
 "nbformat": 4,
 "nbformat_minor": 5
}
