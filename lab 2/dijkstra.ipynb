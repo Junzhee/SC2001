{
 "cells": [
  {
   "cell_type": "code",
   "execution_count": 1,
   "id": "67e2ad8d",
   "metadata": {},
   "outputs": [],
   "source": [
    "import heapq\n",
    "\n",
    "# initialize the original cost of each vertex to the start point\n",
    "\n",
    "def initialize(graph, start):\n",
    "    cost = {start : 0}\n",
    "    inf = 99999\n",
    "    \n",
    "    for V in graph:\n",
    "        if V != start:\n",
    "            cost[V] = inf\n",
    "    \n",
    "    return cost\n",
    "\n",
    "\n",
    "# Find the distance of each vertex from start point\n",
    "\n",
    "def dijkstra(graph, start):\n",
    "    \n",
    "    # use minimizing heap as priority queue\n",
    "    pqueue = [] \n",
    "    heapq.heappush(pqueue, (0, start))\n",
    "    \n",
    "    checked = []\n",
    "    record = {start : None}\n",
    "    cost = initialize(graph, start)\n",
    "    \n",
    "    \n",
    "    while (len(pqueue) > 0):\n",
    "        candidate = heapq.heappop(pqueue)\n",
    "        distance = candidate[0]\n",
    "        V = candidate[1]\n",
    "        checked.append(V)\n",
    "        \n",
    "        nodes = graph[V].keys()\n",
    "        \n",
    "        for vertex in nodes:\n",
    "            if vertex not in checked:\n",
    "                if (graph[V][vertex][\"weight\"] + distance) < cost[vertex]:\n",
    "                    record[vertex] = V\n",
    "                    cost[vertex] = graph[V][vertex][\"weight\"] + distance\n",
    "                    heapq.heappush(pqueue, (cost[vertex], vertex))\n",
    "                    \n",
    "    return record\n",
    "    \n",
    "    "
   ]
  },
  {
   "cell_type": "code",
   "execution_count": 2,
   "id": "5a44961f",
   "metadata": {},
   "outputs": [],
   "source": [
    "import networkx as nx\n",
    "import algorithmx\n",
    "from random import randint\n",
    "from algorithmx.networkx import add_graph\n",
    "\n",
    "# randomly generate graph with networkx library\n",
    "\n",
    "def generate_graph(n):\n",
    "    \n",
    "    G = nx.gnp_random_graph(n, 0.3, 138)\n",
    "\n",
    "    # random set edge weight\n",
    "    nx.set_edge_attributes(G, {e: {'weight': randint(1, 10)} for e in G.edges}) \n",
    "\n",
    "    # save as adjacency list\n",
    "    graph = nx.to_dict_of_dicts(G, nodelist=None)\n",
    "    \n",
    "    return graph\n"
   ]
  },
  {
   "cell_type": "code",
   "execution_count": 5,
   "id": "193e4917",
   "metadata": {},
   "outputs": [
    {
     "data": {
      "text/plain": [
       "{1: None, 0: 1, 9: 1, 4: 0, 6: 0, 7: 9, 2: 9, 3: 2, 5: 2, 8: 7}"
      ]
     },
     "execution_count": 5,
     "metadata": {},
     "output_type": "execute_result"
    }
   ],
   "source": [
    "graph = generate_graph(10)\n",
    "dijkstra(graph, 1)"
   ]
  },
  {
   "cell_type": "code",
   "execution_count": 6,
   "id": "d028d553",
   "metadata": {},
   "outputs": [
    {
     "data": {
      "text/plain": [
       "{0: {1: {'weight': 6}, 4: {'weight': 6}, 6: {'weight': 10}, 7: {'weight': 8}},\n",
       " 1: {0: {'weight': 6}, 9: {'weight': 9}},\n",
       " 2: {3: {'weight': 2}, 5: {'weight': 1}, 8: {'weight': 8}, 9: {'weight': 1}},\n",
       " 3: {2: {'weight': 2}, 4: {'weight': 6}, 6: {'weight': 10}},\n",
       " 4: {0: {'weight': 6}, 3: {'weight': 6}},\n",
       " 5: {2: {'weight': 1}},\n",
       " 6: {0: {'weight': 10}, 3: {'weight': 10}, 7: {'weight': 6}},\n",
       " 7: {0: {'weight': 8}, 6: {'weight': 6}, 8: {'weight': 1}, 9: {'weight': 1}},\n",
       " 8: {2: {'weight': 8}, 7: {'weight': 1}},\n",
       " 9: {1: {'weight': 9}, 2: {'weight': 1}, 7: {'weight': 1}}}"
      ]
     },
     "execution_count": 6,
     "metadata": {},
     "output_type": "execute_result"
    }
   ],
   "source": [
    "graph"
   ]
  },
  {
   "cell_type": "code",
   "execution_count": null,
   "id": "83f7e8b2",
   "metadata": {},
   "outputs": [],
   "source": []
  },
  {
   "cell_type": "code",
   "execution_count": null,
   "id": "daeb9f66",
   "metadata": {},
   "outputs": [],
   "source": []
  }
 ],
 "metadata": {
  "kernelspec": {
   "display_name": "Python 3 (ipykernel)",
   "language": "python",
   "name": "python3"
  },
  "language_info": {
   "codemirror_mode": {
    "name": "ipython",
    "version": 3
   },
   "file_extension": ".py",
   "mimetype": "text/x-python",
   "name": "python",
   "nbconvert_exporter": "python",
   "pygments_lexer": "ipython3",
   "version": "3.9.7"
  }
 },
 "nbformat": 4,
 "nbformat_minor": 5
}
