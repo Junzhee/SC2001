{
 "cells": [
  {
   "cell_type": "code",
   "execution_count": 1,
   "id": "6c83fee5",
   "metadata": {},
   "outputs": [],
   "source": [
    "import numpy\n",
    "\n",
    "def maxProfit():\n",
    "    #input number of items N and max capacity C\n",
    "    N, C = map(int, input().split())\n",
    "    \n",
    "    #input wi and pi\n",
    "    w = [0] * (N+1) \n",
    "    p = [0] * (N+1) \n",
    "\n",
    "    for i in range(1, N+1):\n",
    "        w[i], p[i] = map(int, input().split())\n",
    "    \n",
    "    #P stores the value of max profit from 0 capacity to C\n",
    "    #initializtion\n",
    "    P = numpy.zeros([C+1])\n",
    "    \n",
    "    #bottom up approach to compute P\n",
    "    for i in range(1, N+1):\n",
    "        for j in range(C, w[i]-1, -1):\n",
    "            for k in range(0, j // w[i] + 1):\n",
    "                #k refers to the number of ith item packed\n",
    "                P[j] = max(P[j], P[j - k * w[i]] + k * p[i])\n",
    "\n",
    "    print(P[C])\n",
    "    print(P)"
   ]
  },
  {
   "cell_type": "code",
   "execution_count": 2,
   "id": "bda1b063",
   "metadata": {},
   "outputs": [],
   "source": [
    "def maxProfit_2():\n",
    "\n",
    "    N, C = map(int, input().split()) \n",
    "    w = [0] * (N+1) \n",
    "    p = [0] * (N+1) \n",
    "\n",
    "    for i in range(1, N+1):\n",
    "        w[i], p[i] = map(int, input().split())\n",
    "    \n",
    "    P = numpy.zeros([N+1, C+1])\n",
    "    \n",
    "    for i in range(1, N+1):\n",
    "        for j in range(C+1):\n",
    "            P[i][j] = P[i - 1][j]\n",
    "            for k in range(0, j // w[i] + 1):\n",
    "                P[i][j] = max(P[i][j], P[i-1][j - k * w[i]] + k * p[i])\n",
    "\n",
    "    print(P[N][C])\n",
    "    print(P)"
   ]
  },
  {
   "cell_type": "code",
   "execution_count": 3,
   "id": "815e4506",
   "metadata": {},
   "outputs": [
    {
     "name": "stdout",
     "output_type": "stream",
     "text": [
      "3 14\n",
      "4 7\n",
      "6 6\n",
      "8 9\n",
      "21.0\n",
      "[ 0.  0.  0.  0.  7.  7.  7.  7. 14. 14. 14. 14. 21. 21. 21.]\n"
     ]
    }
   ],
   "source": [
    "maxProfit()"
   ]
  },
  {
   "cell_type": "code",
   "execution_count": 5,
   "id": "b99f46de",
   "metadata": {},
   "outputs": [
    {
     "name": "stdout",
     "output_type": "stream",
     "text": [
      "3 14\n",
      "4 7\n",
      "6 6\n",
      "8 9\n",
      "21.0\n",
      "[[ 0.  0.  0.  0.  0.  0.  0.  0.  0.  0.  0.  0.  0.  0.  0.]\n",
      " [ 0.  0.  0.  0.  7.  7.  7.  7. 14. 14. 14. 14. 21. 21. 21.]\n",
      " [ 0.  0.  0.  0.  7.  7.  7.  7. 14. 14. 14. 14. 21. 21. 21.]\n",
      " [ 0.  0.  0.  0.  7.  7.  7.  7. 14. 14. 14. 14. 21. 21. 21.]]\n"
     ]
    }
   ],
   "source": [
    "maxProfit_2()"
   ]
  },
  {
   "cell_type": "code",
   "execution_count": null,
   "id": "2a0c84c6",
   "metadata": {},
   "outputs": [],
   "source": []
  }
 ],
 "metadata": {
  "kernelspec": {
   "display_name": "Python 3 (ipykernel)",
   "language": "python",
   "name": "python3"
  },
  "language_info": {
   "codemirror_mode": {
    "name": "ipython",
    "version": 3
   },
   "file_extension": ".py",
   "mimetype": "text/x-python",
   "name": "python",
   "nbconvert_exporter": "python",
   "pygments_lexer": "ipython3",
   "version": "3.9.12"
  }
 },
 "nbformat": 4,
 "nbformat_minor": 5
}
